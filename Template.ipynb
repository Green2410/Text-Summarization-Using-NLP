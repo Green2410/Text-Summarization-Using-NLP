{
 "cells": [
  {
   "cell_type": "code",
   "execution_count": 7,
   "id": "bdb6e2b9",
   "metadata": {},
   "outputs": [],
   "source": [
    "import os\n",
    "from pathlib import Path\n",
    "import logging\n",
    "\n",
    "import warnings\n",
    "warnings.filterwarnings('ignore')"
   ]
  },
  {
   "cell_type": "code",
   "execution_count": 3,
   "id": "5953c3b9",
   "metadata": {},
   "outputs": [],
   "source": [
    "logging.basicConfig(level = logging.INFO, format = '[%(asctime)s] : %(message)s:')"
   ]
  },
  {
   "cell_type": "code",
   "execution_count": 5,
   "id": "c8d0aa03",
   "metadata": {},
   "outputs": [],
   "source": [
    "project = \"TextSummarizer\"\n",
    "\n",
    "file_list = [\n",
    "    \".github/workflows/.gitkeep\",\n",
    "    f\"src/{project}/__init__.py\",\n",
    "    f\"src/{project}/components/__init__.py\",\n",
    "    f\"src/{project}/utils/__init__.py\",\n",
    "    f\"src/{project}/utils/common.py\",\n",
    "    f\"src/{project}/logging//__init__.py\",\n",
    "    f\"src/{project}/config/__init__.py\",\n",
    "    f\"src/{project}/config/configuration.py\",\n",
    "    f\"src/{project}/pipeline/__init__.py\",\n",
    "    f\"src/{project}/entity/__init__.py\",\n",
    "    f\"src/{project}/constants/__init__.py\"\n",
    "    \"config/config.yaml\",\n",
    "    \"params.yaml\",\n",
    "    \"app.py\",\n",
    "    \"main.py\",\n",
    "    \"Dockerfile\",\n",
    "    \"requirements.txt\",\n",
    "    \"setup.py\",\n",
    "    \"research/trials.ipynb\"\n",
    "]"
   ]
  },
  {
   "cell_type": "code",
   "execution_count": 10,
   "id": "19737ccc",
   "metadata": {},
   "outputs": [
    {
     "name": "stderr",
     "output_type": "stream",
     "text": [
      "[2024-06-21 03:22:31,308] : Creating directory:.github\\workflows for the file .gitkeep:\n",
      "[2024-06-21 03:22:31,309] : Creating empty file : .github\\workflows\\.gitkeep:\n",
      "[2024-06-21 03:22:31,312] : Creating directory:src\\TextSummarizer for the file __init__.py:\n",
      "[2024-06-21 03:22:31,314] : Creating empty file : src\\TextSummarizer\\__init__.py:\n",
      "[2024-06-21 03:22:31,316] : Creating directory:src\\TextSummarizer\\components for the file __init__.py:\n",
      "[2024-06-21 03:22:31,318] : Creating empty file : src\\TextSummarizer\\components\\__init__.py:\n",
      "[2024-06-21 03:22:31,321] : Creating directory:src\\TextSummarizer\\utils for the file __init__.py:\n",
      "[2024-06-21 03:22:31,323] : Creating empty file : src\\TextSummarizer\\utils\\__init__.py:\n",
      "[2024-06-21 03:22:31,325] : Creating directory:src\\TextSummarizer\\utils for the file common.py:\n",
      "[2024-06-21 03:22:31,326] : Creating empty file : src\\TextSummarizer\\utils\\common.py:\n",
      "[2024-06-21 03:22:31,328] : Creating directory:src\\TextSummarizer\\logging for the file __init__.py:\n",
      "[2024-06-21 03:22:31,331] : Creating empty file : src\\TextSummarizer\\logging\\__init__.py:\n",
      "[2024-06-21 03:22:31,332] : Creating directory:src\\TextSummarizer\\config for the file __init__.py:\n",
      "[2024-06-21 03:22:31,333] : Creating empty file : src\\TextSummarizer\\config\\__init__.py:\n",
      "[2024-06-21 03:22:31,336] : Creating directory:src\\TextSummarizer\\config for the file configuration.py:\n",
      "[2024-06-21 03:22:31,337] : Creating empty file : src\\TextSummarizer\\config\\configuration.py:\n",
      "[2024-06-21 03:22:31,339] : Creating directory:src\\TextSummarizer\\pipeline for the file __init__.py:\n",
      "[2024-06-21 03:22:31,340] : Creating empty file : src\\TextSummarizer\\pipeline\\__init__.py:\n",
      "[2024-06-21 03:22:31,342] : Creating directory:src\\TextSummarizer\\entity for the file __init__.py:\n",
      "[2024-06-21 03:22:31,343] : Creating empty file : src\\TextSummarizer\\entity\\__init__.py:\n",
      "[2024-06-21 03:22:31,346] : Creating directory:src\\TextSummarizer\\constants\\__init__.pyconfig for the file config.yaml:\n",
      "[2024-06-21 03:22:31,349] : Creating empty file : src\\TextSummarizer\\constants\\__init__.pyconfig\\config.yaml:\n",
      "[2024-06-21 03:22:31,351] : Creating empty file : params.yaml:\n",
      "[2024-06-21 03:22:31,353] : Creating empty file : app.py:\n",
      "[2024-06-21 03:22:31,355] : Creating empty file : main.py:\n",
      "[2024-06-21 03:22:31,357] : Creating empty file : Dockerfile:\n",
      "[2024-06-21 03:22:31,359] : Creating empty file : requirements.txt:\n",
      "[2024-06-21 03:22:31,361] : Creating empty file : setup.py:\n",
      "[2024-06-21 03:22:31,363] : Creating directory:research for the file trials.ipynb:\n",
      "[2024-06-21 03:22:31,366] : Creating empty file : research\\trials.ipynb:\n"
     ]
    }
   ],
   "source": [
    "for filepath in file_list:\n",
    "    filepath = Path(filepath)\n",
    "    file_dir, file_name = os.path.split(filepath)\n",
    "    \n",
    "    if file_dir!=\"\":\n",
    "        os.makedirs(file_dir, exist_ok = True)\n",
    "        logging.info(f\"Creating directory:{file_dir} for the file {file_name}\")\n",
    "        \n",
    "    if (not os.path.exists(filepath)) or (os.path.getsize(filepath)==0):\n",
    "        with open(filepath, 'w') as f:\n",
    "            pass\n",
    "            logging.info(f\"Creating empty file : {filepath}\")\n",
    "            \n",
    "    else:\n",
    "        logging.info(f\"{file_name} already exists\")"
   ]
  }
 ],
 "metadata": {
  "kernelspec": {
   "display_name": "Python 3 (ipykernel)",
   "language": "python",
   "name": "python3"
  },
  "language_info": {
   "codemirror_mode": {
    "name": "ipython",
    "version": 3
   },
   "file_extension": ".py",
   "mimetype": "text/x-python",
   "name": "python",
   "nbconvert_exporter": "python",
   "pygments_lexer": "ipython3",
   "version": "3.11.5"
  }
 },
 "nbformat": 4,
 "nbformat_minor": 5
}
